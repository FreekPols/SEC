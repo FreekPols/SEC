{
  "cells": [
    {
      "cell_type": "markdown",
      "id": "875f8acc-8ea9-4db4-b8c7-2fccfe9d2dc2",
      "metadata": {
        "id": "875f8acc-8ea9-4db4-b8c7-2fccfe9d2dc2",
        "tags": []
      },
      "source": [
        "# Practicumopdracht \n",
        "\n",
        "Namen:\n"
      ]
    },
    {
      "cell_type": "markdown",
      "id": "c4de8a80-c71f-465e-a02c-1ca3df5449ef",
      "metadata": {
        "id": "c4de8a80-c71f-465e-a02c-1ca3df5449ef"
      },
      "source": [
        "In dit practicum doen we onderzoek naar de restitutiecoefficient. Wat dat is? Dat legt de docent in het onderstaande filmpje uit.\n"
      ]
    },
    {
      "cell_type": "code",
      "execution_count": null,
      "id": "6292bb74-5fcb-4674-9ec7-92d4810ec764",
      "metadata": {
        "colab": {
          "base_uri": "https://localhost:8080/",
          "height": 471
        },
        "id": "6292bb74-5fcb-4674-9ec7-92d4810ec764",
        "outputId": "0460f9f7-cafe-4c37-a0a8-4b83e3b1187a"
      },
      "outputs": [
        {
          "data": {
            "image/jpeg": "[encoded data removed]",
            "text/html": [
              "\n",
              "        <iframe\n",
              "            width=\"600\"\n",
              "            height=\"450\"\n",
              "            src=\"https://www.youtube.com/embed/5_anUf6DfKs\"\n",
              "            frameborder=\"0\"\n",
              "            allowfullscreen\n",
              "            \n",
              "        ></iframe>\n",
              "        "
            ],
            "text/plain": [
              "<IPython.lib.display.YouTubeVideo at 0x7805beb85090>"
            ]
          },
          "execution_count": 2,
          "metadata": {},
          "output_type": "execute_result"
        }
      ],
      "source": [
        "import numpy as np\n",
        "import matplotlib.pyplot as plt\n",
        "from IPython.lib.display import YouTubeVideo\n",
        "YouTubeVideo('5_anUf6DfKs', width = 600, height = 450)"
      ]
    },
    {
      "cell_type": "markdown",
      "id": "5074a392-adb9-42f6-9083-66d36c936fee",
      "metadata": {
        "id": "5074a392-adb9-42f6-9083-66d36c936fee"
      },
      "source": [
        "De restitutiecoefficient is dus een maat voor het stuiteren van bijvoorbeeld een stuiterbal. In formule vorm wordt de restitutiecoefficient gegeven door $C_r=\\sqrt{\\frac{h}{H}}$, waarin $H$ de valhoogte is van de stuiterbal voor de botsing en $h$ de maximaal bereikte hoogte na de botsing.\n",
        "\n",
        "1) Welke eenheid heeft de restitutiecoefficient?"
      ]
    },
    {
      "cell_type": "markdown",
      "id": "991bf257-abcf-4016-a311-385a2e9832c1",
      "metadata": {
        "id": "991bf257-abcf-4016-a311-385a2e9832c1"
      },
      "source": [
        "**Antwoord:**\n",
        "\n",
        "\n"
      ]
    },
    {
      "cell_type": "code",
      "execution_count": null,
      "id": "bc723226-50a7-4cfc-9b83-4b248146ca03",
      "metadata": {
        "id": "bc723226-50a7-4cfc-9b83-4b248146ca03"
      },
      "outputs": [],
      "source": []
    },
    {
      "cell_type": "markdown",
      "id": "6ee0bb0d-4f7e-4063-92a6-025b1b576d97",
      "metadata": {
        "id": "6ee0bb0d-4f7e-4063-92a6-025b1b576d97"
      },
      "source": [
        "Voor het bepalen van de hoogte zou je een liniaal kunnen gebruiken.\n",
        "\n",
        "2) Geef twee redenen waarom dat niet optimaal is."
      ]
    },
    {
      "cell_type": "markdown",
      "id": "440266ff-4a00-44aa-886e-93c54fde33e5",
      "metadata": {
        "id": "440266ff-4a00-44aa-886e-93c54fde33e5"
      },
      "source": [
        "**Antwoord:**\n"
      ]
    },
    {
      "cell_type": "code",
      "execution_count": null,
      "id": "198453de-3420-46dc-bff0-05e9799d36dd",
      "metadata": {
        "id": "198453de-3420-46dc-bff0-05e9799d36dd"
      },
      "outputs": [],
      "source": []
    },
    {
      "cell_type": "markdown",
      "id": "e6fe148e-3562-4334-b69e-1bfc9dd5dc05",
      "metadata": {
        "id": "e6fe148e-3562-4334-b69e-1bfc9dd5dc05"
      },
      "source": [
        "Om de hoogte nauwkeurig te bepalen, gebruiken we onze telefoon en de app Phyphox. In die app zit een zogenaamde akoestische chronometer: een stopwatch die werkt op geluid. Bij een 'tik' start de meting, bij een tweede 'tik' stopt de stopwatch. Je kunt ook de akoestische chronometer zo instellen dat deze de tijd tussen opeenvolgende tikken weergeeft. Ideaal voor wat wij willen!\n",
        "\n",
        "3) Leg uit waarom we de tijd tussen meerdere tikken willen meten."
      ]
    },
    {
      "cell_type": "markdown",
      "id": "31323c2a-6c58-485d-9e1e-736326fbdec5",
      "metadata": {
        "id": "31323c2a-6c58-485d-9e1e-736326fbdec5"
      },
      "source": [
        "**Antwoord:**\n"
      ]
    },
    {
      "cell_type": "code",
      "execution_count": null,
      "id": "ad660989-6490-426b-8283-ea5f2a7b2af5",
      "metadata": {
        "id": "ad660989-6490-426b-8283-ea5f2a7b2af5"
      },
      "outputs": [],
      "source": []
    },
    {
      "cell_type": "markdown",
      "id": "b067c02e-af88-41ca-860a-6a93246eef6a",
      "metadata": {
        "id": "b067c02e-af88-41ca-860a-6a93246eef6a"
      },
      "source": [
        "Nu moeten we nog wel de tijd omrekenen naar hoogte. Als een object valt van een hoogte $H$, wordt de tijd die het object erover doet om de grond te raken gegeven door: $H=\\frac{1}{2}gt^2$. De maximale hoogte op basis van de tijd tussen twee tikken wordt daarmee gegeven door $h_{max}=\\frac{1}{8}gt^2$.\n",
        "\n",
        "4) Leg uit hoe de tweede formule volgt uit de eerste."
      ]
    },
    {
      "cell_type": "markdown",
      "id": "b2b6b723-2404-46be-b05e-acc07837a8a1",
      "metadata": {
        "id": "b2b6b723-2404-46be-b05e-acc07837a8a1"
      },
      "source": [
        "**Antwoord:**\n"
      ]
    },
    {
      "cell_type": "code",
      "execution_count": null,
      "id": "f589a5ec-2c8e-4a60-a769-8d753b4d90dd",
      "metadata": {
        "id": "f589a5ec-2c8e-4a60-a769-8d753b4d90dd"
      },
      "outputs": [],
      "source": []
    },
    {
      "cell_type": "markdown",
      "id": "d58fca07-5fa9-4cf1-8113-d4547723ae10",
      "metadata": {
        "id": "d58fca07-5fa9-4cf1-8113-d4547723ae10"
      },
      "source": [
        "Met de onderstaande berekening wordt de gemeten tijd omgezet in de hoogte."
      ]
    },
    {
      "cell_type": "code",
      "execution_count": null,
      "id": "884c5a4d-d2a8-4602-b126-ed7d1ee7adf6",
      "metadata": {
        "id": "884c5a4d-d2a8-4602-b126-ed7d1ee7adf6"
      },
      "outputs": [],
      "source": [
        "def h_berekening(t):\n",
        "    return 1/8*9.81*t**2"
      ]
    },
    {
      "cell_type": "markdown",
      "id": "6f233b80-3585-423e-9da2-e8d9e5649c3a",
      "metadata": {
        "id": "6f233b80-3585-423e-9da2-e8d9e5649c3a"
      },
      "source": [
        "5. Voer de volgende opdrachten uit:\n",
        "* Open de Phyphox app op de telefoon, gebruik de akoestische chronometer en doe een testmeting.\n",
        "* Bespreek op basis van je testmeting vanaf welke starthoogte je gaat meten, en eventuele andere punten die je opvallen.\n",
        "* Zet je metingen hieronder op de punten (vervang de punten dus voor je metingen, maar laat de kommas staan)."
      ]
    },
    {
      "cell_type": "code",
      "execution_count": null,
      "id": "a8be0ad8-5050-4cd9-a2fe-fa8b92ad54ea",
      "metadata": {
        "id": "a8be0ad8-5050-4cd9-a2fe-fa8b92ad54ea"
      },
      "outputs": [],
      "source": [
        "t = np.array([.. , .. , .. , .. , ..])\n",
        "h = h_berekening(t)\n",
        "\n",
        "plt.figure()                    #aanmaken van de grafiek\n",
        "plt.plot(h,'k.')                #het weergeven van de metingen\n",
        "plt.xlabel('aantal stuiters')   #label op horizontale as\n",
        "plt.ylabel('hoogte (m)')        #label op verticale as\n",
        "plt.ylim(0,max(h)*1.2)          #bereik aangeven\n",
        "plt.show()                      #tonen van de grafiek"
      ]
    },
    {
      "cell_type": "code",
      "execution_count": null,
      "id": "c24082dd-178b-443a-b2db-bcc1272f8040",
      "metadata": {
        "id": "c24082dd-178b-443a-b2db-bcc1272f8040"
      },
      "outputs": [],
      "source": []
    },
    {
      "cell_type": "markdown",
      "id": "e8e20be7-68d3-4f0b-9b25-b5f9ae7330cf",
      "metadata": {
        "id": "e8e20be7-68d3-4f0b-9b25-b5f9ae7330cf"
      },
      "source": [
        "6. De grafiek is alvast voor je gemaakt. Wat zijn de dingen die je opvallen aan de grafiek? Is het een rechte lijn? Kun je op basis van deze grafiek al inschatten of de restitutiecoefficient een constante waarde heeft?"
      ]
    },
    {
      "cell_type": "markdown",
      "id": "807b03f0-11b5-4c2a-82de-6480de4cee40",
      "metadata": {
        "id": "807b03f0-11b5-4c2a-82de-6480de4cee40"
      },
      "source": [
        "**Antwoord**\n"
      ]
    },
    {
      "cell_type": "code",
      "execution_count": null,
      "id": "0266d421-4d8a-400e-ab5a-da4c50ecf210",
      "metadata": {
        "id": "0266d421-4d8a-400e-ab5a-da4c50ecf210"
      },
      "outputs": [],
      "source": []
    },
    {
      "cell_type": "markdown",
      "id": "401b6c8b-7179-4d3d-b7a9-05280248488c",
      "metadata": {
        "id": "401b6c8b-7179-4d3d-b7a9-05280248488c"
      },
      "source": [
        "Nu hebben we de juiste metingen en kunnen we de restitutiecoefficient uitrekenen. Je hebt, als het goed is, vijf metingen en kunt dus vier maal de restitutiecoefficient uitrekenen. Gelukkig hoeven we dat niet zelf met de hand te doen, Python doet dat in ene keer voor ons."
      ]
    },
    {
      "cell_type": "code",
      "execution_count": null,
      "id": "d2129f4d-5f36-435b-9d78-940fbfc8916a",
      "metadata": {
        "id": "d2129f4d-5f36-435b-9d78-940fbfc8916a"
      },
      "outputs": [],
      "source": [
        "e = np.sqrt(h[1:]/h[:-1])\n",
        "print(np.round(e,2))"
      ]
    },
    {
      "cell_type": "code",
      "execution_count": null,
      "id": "f961cbad-8c05-418d-b3ea-a3dd3c6a5822",
      "metadata": {
        "id": "f961cbad-8c05-418d-b3ea-a3dd3c6a5822"
      },
      "outputs": [],
      "source": []
    },
    {
      "cell_type": "markdown",
      "id": "cb3d8afa-27b0-4df2-aad1-2072e4668e08",
      "metadata": {
        "id": "cb3d8afa-27b0-4df2-aad1-2072e4668e08"
      },
      "source": [
        "7. Op basis van deze set metingen, is de restitutiecoefficient constant? Welke conclusie kun je trekken uit de analyse?"
      ]
    },
    {
      "cell_type": "markdown",
      "id": "a3e2c2aa-4732-41e5-a83d-0ebc29f18ac8",
      "metadata": {
        "id": "a3e2c2aa-4732-41e5-a83d-0ebc29f18ac8"
      },
      "source": [
        "**Antwoord**\n"
      ]
    },
    {
      "cell_type": "code",
      "execution_count": null,
      "id": "51e1e415-3082-4be5-aee4-c19695f29c1d",
      "metadata": {
        "id": "51e1e415-3082-4be5-aee4-c19695f29c1d"
      },
      "outputs": [],
      "source": []
    },
    {
      "cell_type": "markdown",
      "id": "73971620-5e7f-45a2-996b-16ee7a0a994a",
      "metadata": {
        "id": "73971620-5e7f-45a2-996b-16ee7a0a994a"
      },
      "source": [
        "8. Voer verder onderzoek uit naar bijvoorbeeld de hoogte, of andere ballen. Formuleer eerst een onderzoeksvraag en geef van te voren een verwachting aan."
      ]
    },
    {
      "cell_type": "code",
      "execution_count": null,
      "id": "7a8a1c3a-4e31-48f0-8989-9e7237ae39b4",
      "metadata": {
        "id": "7a8a1c3a-4e31-48f0-8989-9e7237ae39b4"
      },
      "outputs": [],
      "source": []
    },
    {
      "cell_type": "markdown",
      "id": "e9ed1229-02f4-4ed3-8cac-23f7b0b48e19",
      "metadata": {
        "id": "e9ed1229-02f4-4ed3-8cac-23f7b0b48e19"
      },
      "source": [
        "**Uitwerkingen**\n",
        "Hieronder vind je een voorbeeldmeting."
      ]
    },
    {
      "cell_type": "code",
      "execution_count": null,
      "id": "854d466a-68f0-440d-8c0f-e48950407d5a",
      "metadata": {
        "colab": {
          "base_uri": "https://localhost:8080/",
          "height": 466
        },
        "id": "854d466a-68f0-440d-8c0f-e48950407d5a",
        "outputId": "d77081e2-f69f-473a-c007-462039ded82e"
      },
      "outputs": [
        {
          "data": {
            "image/png": "[encoded data removed]",
            "text/plain": [
              "<Figure size 640x480 with 1 Axes>"
            ]
          },
          "metadata": {},
          "output_type": "display_data"
        },
        {
          "name": "stdout",
          "output_type": "stream",
          "text": [
            "[0.91 0.91 0.92 0.91]\n"
          ]
        }
      ],
      "source": [
        "# 1) Eenheidsloos\n",
        "# 2) Kunt vaak maar een meting tegelijk doen, nauwkeurig aflezen is moeilijk\n",
        "# 3) Een goed resultaat krijg je met herhaalde metingen. Ook kun je onderzoeken of de restitutiecoefficient afhangt van bijv. de hoogte\n",
        "# 4) De tijd die gemeten wordt, is de tijd omhoog en omlaag. Dus t = 2*sqrt(2H/g). Vrij maken van H geeft: H=1/8gt^2\n",
        "# 5)\n",
        "import numpy as np\n",
        "import matplotlib.pyplot as plt\n",
        "\n",
        "def h_berekening(t):\n",
        "    return 1/8*9.81*t**2\n",
        "\n",
        "t = np.array([0.500 , 0.456 , 0.416 , 0.381 , 0.346])\n",
        "h = h_berekening(t)\n",
        "\n",
        "plt.figure()\n",
        "plt.plot(h,'k.')\n",
        "plt.xlabel('aantal stuiters')\n",
        "plt.ylabel('hoogte (m)')\n",
        "plt.ylim(0,max(h)*1.2)\n",
        "plt.show()\n",
        "\n",
        "# 6) Een dalende lijn, lijkt net niet recht.\n",
        "e = np.sqrt(h[1:]/h[:-1])\n",
        "print(np.round(e,2))"
      ]
    },
    {
      "cell_type": "code",
      "execution_count": null,
      "id": "e0b6f7ce-0750-41b7-bb04-7e34172fea7c",
      "metadata": {
        "id": "e0b6f7ce-0750-41b7-bb04-7e34172fea7c"
      },
      "outputs": [],
      "source": []
    },
    {
      "cell_type": "code",
      "execution_count": null,
      "id": "f06dc2c7-1c29-476c-8eb2-5662d8e4bb89",
      "metadata": {
        "id": "f06dc2c7-1c29-476c-8eb2-5662d8e4bb89"
      },
      "outputs": [],
      "source": []
    }
  ],
  "metadata": {
    "colab": {
      "provenance": []
    },
    "kernelspec": {
      "display_name": "Python 3 (ipykernel)",
      "language": "python",
      "name": "python3"
    },
    "language_info": {
      "codemirror_mode": {
        "name": "ipython",
        "version": 3
      },
      "file_extension": ".py",
      "mimetype": "text/x-python",
      "name": "python",
      "nbconvert_exporter": "python",
      "pygments_lexer": "ipython3",
      "version": "3.9.12"
    }
  },
  "nbformat": 4,
  "nbformat_minor": 5
}
